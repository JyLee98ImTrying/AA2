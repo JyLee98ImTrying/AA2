{
  "nbformat": 4,
  "nbformat_minor": 0,
  "metadata": {
    "colab": {
      "provenance": [],
      "authorship_tag": "ABX9TyOh++c00gEytLceP5M3h1cl",
      "include_colab_link": true
    },
    "kernelspec": {
      "name": "python3",
      "display_name": "Python 3"
    },
    "language_info": {
      "name": "python"
    }
  },
  "cells": [
    {
      "cell_type": "markdown",
      "metadata": {
        "id": "view-in-github",
        "colab_type": "text"
      },
      "source": [
        "<a href=\"https://colab.research.google.com/github/JyLee98ImTrying/AA2/blob/main/LeeJieYeng_P1.ipynb\" target=\"_parent\"><img src=\"https://colab.research.google.com/assets/colab-badge.svg\" alt=\"Open In Colab\"/></a>"
      ]
    },
    {
      "cell_type": "code",
      "execution_count": null,
      "metadata": {
        "id": "X471fudlpjIl"
      },
      "outputs": [],
      "source": [
        "#Import necessary libraries\n",
        "import pandas as pd\n",
        "import numpy as np\n",
        "import matplotlib.pyplot as plt\n",
        "import seaborn as sns"
      ]
    },
    {
      "cell_type": "code",
      "source": [
        "# Data Ingestion: mount google drive and create a df from a csv file\n",
        "from google.colab import drive\n",
        "drive.mount('/content/drive')\n",
        "\n",
        "df = pd.read_csv('/content/drive/My Drive/Recipe.csv')\n"
      ],
      "metadata": {
        "colab": {
          "base_uri": "https://localhost:8080/"
        },
        "id": "Wn9mG5ccp9GZ",
        "outputId": "9e74e165-dd4e-4ce7-9007-40cbc29b67d0"
      },
      "execution_count": null,
      "outputs": [
        {
          "output_type": "stream",
          "name": "stdout",
          "text": [
            "Drive already mounted at /content/drive; to attempt to forcibly remount, call drive.mount(\"/content/drive\", force_remount=True).\n"
          ]
        },
        {
          "output_type": "stream",
          "name": "stderr",
          "text": [
            "<ipython-input-15-be2b6e7efcba>:5: DtypeWarning: Columns (0,2,14,15,16,17,18,19,20,21,22,23,24,25) have mixed types. Specify dtype option on import or set low_memory=False.\n",
            "  df = pd.read_csv('/content/drive/My Drive/Recipe.csv')\n"
          ]
        }
      ]
    },
    {
      "cell_type": "code",
      "source": [
        "#Check for missing values and data types\n",
        "print(df.info())\n",
        "print(df.isnull().sum())"
      ],
      "metadata": {
        "colab": {
          "base_uri": "https://localhost:8080/"
        },
        "id": "GFKThc75qAGY",
        "outputId": "72fa1983-dd46-44d9-d8f3-163ac1669e4e"
      },
      "execution_count": null,
      "outputs": [
        {
          "output_type": "stream",
          "name": "stdout",
          "text": [
            "<class 'pandas.core.frame.DataFrame'>\n",
            "RangeIndex: 522568 entries, 0 to 522567\n",
            "Data columns (total 28 columns):\n",
            " #   Column                      Non-Null Count   Dtype \n",
            "---  ------                      --------------   ----- \n",
            " 0   RecipeId                    522568 non-null  object\n",
            " 1   Name                        522568 non-null  object\n",
            " 2   AuthorId                    522568 non-null  object\n",
            " 3   AuthorName                  522568 non-null  object\n",
            " 4   CookTime                    440023 non-null  object\n",
            " 5   PrepTime                    522568 non-null  object\n",
            " 6   TotalTime                   522567 non-null  object\n",
            " 7   DatePublished               522567 non-null  object\n",
            " 8   Description                 522562 non-null  object\n",
            " 9   Images                      522563 non-null  object\n",
            " 10  RecipeCategory              521806 non-null  object\n",
            " 11  Keywords                    505320 non-null  object\n",
            " 12  RecipeIngredientQuantities  522554 non-null  object\n",
            " 13  RecipeIngredientParts       522554 non-null  object\n",
            " 14  AggregatedRating            269329 non-null  object\n",
            " 15  ReviewCount                 275063 non-null  object\n",
            " 16  Calories                    522552 non-null  object\n",
            " 17  FatContent                  522546 non-null  object\n",
            " 18  SaturatedFatContent         522539 non-null  object\n",
            " 19  CholesterolContent          522539 non-null  object\n",
            " 20  SodiumContent               522539 non-null  object\n",
            " 21  CarbohydrateContent         522525 non-null  object\n",
            " 22  FiberContent                522523 non-null  object\n",
            " 23  SugarContent                522522 non-null  object\n",
            " 24  ProteinContent              522522 non-null  object\n",
            " 25  RecipeServings              339611 non-null  object\n",
            " 26  RecipeYield                 174445 non-null  object\n",
            " 27  RecipeInstructions          522516 non-null  object\n",
            "dtypes: object(28)\n",
            "memory usage: 111.6+ MB\n",
            "None\n",
            "RecipeId                           0\n",
            "Name                               0\n",
            "AuthorId                           0\n",
            "AuthorName                         0\n",
            "CookTime                       82545\n",
            "PrepTime                           0\n",
            "TotalTime                          1\n",
            "DatePublished                      1\n",
            "Description                        6\n",
            "Images                             5\n",
            "RecipeCategory                   762\n",
            "Keywords                       17248\n",
            "RecipeIngredientQuantities        14\n",
            "RecipeIngredientParts             14\n",
            "AggregatedRating              253239\n",
            "ReviewCount                   247505\n",
            "Calories                          16\n",
            "FatContent                        22\n",
            "SaturatedFatContent               29\n",
            "CholesterolContent                29\n",
            "SodiumContent                     29\n",
            "CarbohydrateContent               43\n",
            "FiberContent                      45\n",
            "SugarContent                      46\n",
            "ProteinContent                    46\n",
            "RecipeServings                182957\n",
            "RecipeYield                   348123\n",
            "RecipeInstructions                52\n",
            "dtype: int64\n"
          ]
        }
      ]
    },
    {
      "cell_type": "code",
      "source": [
        "# Basic data cleaning\n",
        "# 1. Drop duplicates\n",
        "df = df.drop_duplicates()\n",
        "\n",
        "# 2. Handle missing values\n",
        "# For simplicity, we'll fill missing numerical values with the median and categorical values with the mode\n",
        "df = df.fillna({\n",
        "    col: df[col].median() if df[col].dtype in ['int64', 'float64'] else df[col].mode()[0]\n",
        "    for col in df.columns\n",
        "})"
      ],
      "metadata": {
        "id": "8hmmkSpjqC7A"
      },
      "execution_count": null,
      "outputs": []
    },
    {
      "cell_type": "code",
      "source": [
        "#Feature Engineering for EDA\n",
        "\n",
        "df_DR = df.drop(['RecipeId', 'AuthorId', 'CookTime', 'PrepTime', 'DatePublished', 'Description', 'Images', 'Keywords', 'ReviewCount', 'RecipeServings'], axis=1)\n",
        "\n",
        "\n"
      ],
      "metadata": {
        "id": "C1AYzcFZUPYD"
      },
      "execution_count": null,
      "outputs": []
    },
    {
      "cell_type": "code",
      "source": [
        "df_DR.to_csv('df_DR.csv', index=False)"
      ],
      "metadata": {
        "id": "Rqaf6M-4VEUq"
      },
      "execution_count": null,
      "outputs": []
    },
    {
      "cell_type": "code",
      "source": [
        "#df\n",
        "\n",
        "df_DR = pd.read_csv('/content/drive/My Drive/df_DR.csv')"
      ],
      "metadata": {
        "colab": {
          "base_uri": "https://localhost:8080/"
        },
        "id": "-PpxkECZZE4p",
        "outputId": "f785cd63-86d9-4bd4-8134-ccfe21ee6ebd"
      },
      "execution_count": null,
      "outputs": [
        {
          "output_type": "stream",
          "name": "stderr",
          "text": [
            "<ipython-input-22-4482f6492d28>:3: DtypeWarning: Columns (6,7,8,9,10,11,12,13,14,15) have mixed types. Specify dtype option on import or set low_memory=False.\n",
            "  df_DR = pd.read_csv('/content/drive/My Drive/df_DR.csv')\n"
          ]
        }
      ]
    },
    {
      "cell_type": "code",
      "source": [
        "print(df_DR.info())"
      ],
      "metadata": {
        "colab": {
          "base_uri": "https://localhost:8080/"
        },
        "id": "VPq3KiGzZguT",
        "outputId": "40121457-5609-4cfb-8933-0b3d95efe7be"
      },
      "execution_count": null,
      "outputs": [
        {
          "output_type": "stream",
          "name": "stdout",
          "text": [
            "<class 'pandas.core.frame.DataFrame'>\n",
            "RangeIndex: 522568 entries, 0 to 522567\n",
            "Data columns (total 18 columns):\n",
            " #   Column                      Non-Null Count   Dtype \n",
            "---  ------                      --------------   ----- \n",
            " 0   Name                        522568 non-null  object\n",
            " 1   AuthorName                  522568 non-null  object\n",
            " 2   TotalTime                   522568 non-null  object\n",
            " 3   RecipeCategory              522568 non-null  object\n",
            " 4   RecipeIngredientQuantities  522568 non-null  object\n",
            " 5   RecipeIngredientParts       522568 non-null  object\n",
            " 6   AggregatedRating            522568 non-null  object\n",
            " 7   Calories                    522568 non-null  object\n",
            " 8   FatContent                  522568 non-null  object\n",
            " 9   SaturatedFatContent         522568 non-null  object\n",
            " 10  CholesterolContent          522568 non-null  object\n",
            " 11  SodiumContent               522568 non-null  object\n",
            " 12  CarbohydrateContent         522568 non-null  object\n",
            " 13  FiberContent                522568 non-null  object\n",
            " 14  SugarContent                522568 non-null  object\n",
            " 15  ProteinContent              522568 non-null  object\n",
            " 16  RecipeYield                 522568 non-null  object\n",
            " 17  RecipeInstructions          522568 non-null  object\n",
            "dtypes: object(18)\n",
            "memory usage: 71.8+ MB\n",
            "None\n"
          ]
        }
      ]
    },
    {
      "cell_type": "code",
      "source": [
        "from collections import Counter\n",
        "import re\n",
        "import ast\n",
        "\n",
        "# Initialize an empty Counter object\n",
        "ingredient_counter = Counter()\n",
        "\n",
        "# Function to clean and extract ingredients\n",
        "def extract_ingredients(ingredient_str):\n",
        "    # Remove the 'c(' and ')' characters and split by commas\n",
        "    ingredient_str = re.sub(r'c\\(|\\)', '', ingredient_str)\n",
        "    # Split the string by commas to get individual ingredients\n",
        "    ingredients = [ingredient.strip() for ingredient in ingredient_str.split(',')]\n",
        "    return ingredients\n",
        "\n",
        "# Iterate over each row in the 'RecipeIngredientParts' column\n",
        "for ingredients in df['RecipeIngredientParts']:\n",
        "    # Extract and clean ingredients\n",
        "    ingredient_list = extract_ingredients(ingredients)\n",
        "\n",
        "    # Update the counter with the ingredients in this row\n",
        "    ingredient_counter.update(ingredient_list)\n",
        "\n",
        "# Convert the counter object to a DataFrame for better readability\n",
        "ingredient_frequency_df = pd.DataFrame(ingredient_counter.items(), columns=['Ingredient', 'Frequency'])\n",
        "\n",
        "# Sort the DataFrame by frequency in descending order\n",
        "ingredient_frequency_df = ingredient_frequency_df.sort_values(by='Frequency', ascending=False)\n",
        "\n",
        "# Display the top 10 most frequent ingredients\n",
        "print(ingredient_frequency_df.head(10))"
      ],
      "metadata": {
        "colab": {
          "base_uri": "https://localhost:8080/"
        },
        "id": "t1ZDrqI3qDh4",
        "outputId": "dbf7bace-029f-41c1-84ba-1ddfbc00be3c"
      },
      "execution_count": null,
      "outputs": [
        {
          "output_type": "stream",
          "name": "stdout",
          "text": [
            "         Ingredient  Frequency\n",
            "20           \"salt\"     199780\n",
            "53         \"butter\"     136079\n",
            "29          \"sugar\"     115852\n",
            "22          \"onion\"      87546\n",
            "56          \"water\"      84376\n",
            "28           \"eggs\"      81186\n",
            "41      \"olive oil\"      76724\n",
            "61          \"flour\"      62410\n",
            "5            \"milk\"      61247\n",
            "45  \"garlic cloves\"      59604\n"
          ]
        }
      ]
    },
    {
      "cell_type": "code",
      "source": [
        "#Top ingredients\n",
        "\n",
        "import matplotlib.pyplot as plt\n",
        "import seaborn as sns\n",
        "\n",
        "# Plotting the top 10 most common ingredients\n",
        "plt.figure(figsize=(12, 8))\n",
        "sns.barplot(x='Frequency', y='Ingredient', data=ingredient_frequency_df.head(10))\n",
        "plt.title('Top 10 Most Common Ingredients')\n",
        "plt.xlabel('Frequency')\n",
        "plt.ylabel('Ingredient')\n",
        "plt.show()"
      ],
      "metadata": {
        "colab": {
          "base_uri": "https://localhost:8080/",
          "height": 718
        },
        "id": "Z6rssH21sKUh",
        "outputId": "fb83be80-f4e4-4df0-c741-12da44cf49b1"
      },
      "execution_count": null,
      "outputs": [
        {
          "output_type": "display_data",
          "data": {
            "text/plain": [
              "<Figure size 1200x800 with 1 Axes>"
            ],
            "image/png": "[encoded data removed]"
          },
          "metadata": {}
        }
      ]
    },
    {
      "cell_type": "code",
      "source": [
        "# Check the data type of the RecipeCategory column\n",
        "print(df_EDA['RecipeCategory'].dtype)\n",
        "\n",
        "\n",
        "# Convert to string if necessary\n",
        "df_EDA['RecipeCategory'] = df_EDA['RecipeCategory'].astype(str)"
      ],
      "metadata": {
        "colab": {
          "base_uri": "https://localhost:8080/"
        },
        "id": "m4bhGfD7ibba",
        "outputId": "fc1905f5-7ac8-4c3b-daaa-dc222a95f86b"
      },
      "execution_count": null,
      "outputs": [
        {
          "output_type": "stream",
          "name": "stdout",
          "text": [
            "object\n"
          ]
        }
      ]
    },
    {
      "cell_type": "code",
      "source": [
        "#Distribution of Recipe Categories\n",
        "\n",
        "# Count the number of recipes per category\n",
        "category_counts = df_EDA['RecipeCategory'].value_counts().head(10)\n",
        "\n",
        "\n",
        "# Plotting\n",
        "plt.figure(figsize=(12, 6))\n",
        "sns.barplot(x=category_counts, y=category_counts.values, palette='viridis')\n",
        "plt.xticks(rotation=90)\n",
        "plt.title('Distribution of Recipe Categories')\n",
        "plt.xlabel('Recipe Category')\n",
        "plt.ylabel('Number of Recipes')\n",
        "plt.show()\n"
      ],
      "metadata": {
        "colab": {
          "base_uri": "https://localhost:8080/",
          "height": 686
        },
        "id": "TQ2cY6Zte9c1",
        "outputId": "ef414ad2-10ee-4597-be89-32353e7293a0"
      },
      "execution_count": null,
      "outputs": [
        {
          "output_type": "stream",
          "name": "stderr",
          "text": [
            "<ipython-input-12-17b1c1a74328>:9: FutureWarning: \n",
            "\n",
            "Passing `palette` without assigning `hue` is deprecated and will be removed in v0.14.0. Assign the `x` variable to `hue` and set `legend=False` for the same effect.\n",
            "\n",
            "  sns.barplot(x=category_counts, y=category_counts.values, palette='viridis')\n"
          ]
        },
        {
          "output_type": "display_data",
          "data": {
            "text/plain": [
              "<Figure size 1200x600 with 1 Axes>"
            ],
            "image/png": "[encoded data removed]"
          },
          "metadata": {}
        }
      ]
    },
    {
      "cell_type": "code",
      "source": [
        "# Selecting only the columns related to nutritional values\n",
        "nutritional_columns = ['Calories', 'FatContent', 'SaturatedFatContent', 'CholesterolContent',\n",
        "                       'SodiumContent', 'CarbohydrateContent', 'FiberContent', 'SugarContent', 'ProteinContent']\n",
        "\n",
        "# Correlation matrix\n",
        "corr_matrix = df_EDA[nutritional_columns].corr()\n",
        "\n",
        "# Plotting the heatmap\n",
        "plt.figure(figsize=(10, 8))\n",
        "sns.heatmap(corr_matrix, annot=True, cmap='coolwarm', fmt='.2f')\n",
        "plt.title('Correlation Matrix of Nutritional Values')\n",
        "plt.show()"
      ],
      "metadata": {
        "colab": {
          "base_uri": "https://localhost:8080/",
          "height": 375
        },
        "id": "aRdGkdmmfFar",
        "outputId": "9d7f09c5-f1e6-454c-aaf0-cbf3a5661fc1"
      },
      "execution_count": null,
      "outputs": [
        {
          "output_type": "error",
          "ename": "ValueError",
          "evalue": "could not convert string to float: 'q_95/v1/img/recipes/28/86/vYx7S5AmTtmK4ROM26lI_C8BC242E-5631-47D0-8AAE-1B8782061C6D.jpeg\"\"'",
          "traceback": [
            "\u001b[0;31m---------------------------------------------------------------------------\u001b[0m",
            "\u001b[0;31mValueError\u001b[0m                                Traceback (most recent call last)",
            "\u001b[0;32m<ipython-input-13-3ab2facb54c9>\u001b[0m in \u001b[0;36m<cell line: 6>\u001b[0;34m()\u001b[0m\n\u001b[1;32m      4\u001b[0m \u001b[0;34m\u001b[0m\u001b[0m\n\u001b[1;32m      5\u001b[0m \u001b[0;31m# Correlation matrix\u001b[0m\u001b[0;34m\u001b[0m\u001b[0;34m\u001b[0m\u001b[0m\n\u001b[0;32m----> 6\u001b[0;31m \u001b[0mcorr_matrix\u001b[0m \u001b[0;34m=\u001b[0m \u001b[0mdf_EDA\u001b[0m\u001b[0;34m[\u001b[0m\u001b[0mnutritional_columns\u001b[0m\u001b[0;34m]\u001b[0m\u001b[0;34m.\u001b[0m\u001b[0mcorr\u001b[0m\u001b[0;34m(\u001b[0m\u001b[0;34m)\u001b[0m\u001b[0;34m\u001b[0m\u001b[0;34m\u001b[0m\u001b[0m\n\u001b[0m\u001b[1;32m      7\u001b[0m \u001b[0;34m\u001b[0m\u001b[0m\n\u001b[1;32m      8\u001b[0m \u001b[0;31m# Plotting the heatmap\u001b[0m\u001b[0;34m\u001b[0m\u001b[0;34m\u001b[0m\u001b[0m\n",
            "\u001b[0;32m/usr/local/lib/python3.10/dist-packages/pandas/core/frame.py\u001b[0m in \u001b[0;36mcorr\u001b[0;34m(self, method, min_periods, numeric_only)\u001b[0m\n\u001b[1;32m  10702\u001b[0m         \u001b[0mcols\u001b[0m \u001b[0;34m=\u001b[0m \u001b[0mdata\u001b[0m\u001b[0;34m.\u001b[0m\u001b[0mcolumns\u001b[0m\u001b[0;34m\u001b[0m\u001b[0;34m\u001b[0m\u001b[0m\n\u001b[1;32m  10703\u001b[0m         \u001b[0midx\u001b[0m \u001b[0;34m=\u001b[0m \u001b[0mcols\u001b[0m\u001b[0;34m.\u001b[0m\u001b[0mcopy\u001b[0m\u001b[0;34m(\u001b[0m\u001b[0;34m)\u001b[0m\u001b[0;34m\u001b[0m\u001b[0;34m\u001b[0m\u001b[0m\n\u001b[0;32m> 10704\u001b[0;31m         \u001b[0mmat\u001b[0m \u001b[0;34m=\u001b[0m \u001b[0mdata\u001b[0m\u001b[0;34m.\u001b[0m\u001b[0mto_numpy\u001b[0m\u001b[0;34m(\u001b[0m\u001b[0mdtype\u001b[0m\u001b[0;34m=\u001b[0m\u001b[0mfloat\u001b[0m\u001b[0;34m,\u001b[0m \u001b[0mna_value\u001b[0m\u001b[0;34m=\u001b[0m\u001b[0mnp\u001b[0m\u001b[0;34m.\u001b[0m\u001b[0mnan\u001b[0m\u001b[0;34m,\u001b[0m \u001b[0mcopy\u001b[0m\u001b[0;34m=\u001b[0m\u001b[0;32mFalse\u001b[0m\u001b[0;34m)\u001b[0m\u001b[0;34m\u001b[0m\u001b[0;34m\u001b[0m\u001b[0m\n\u001b[0m\u001b[1;32m  10705\u001b[0m \u001b[0;34m\u001b[0m\u001b[0m\n\u001b[1;32m  10706\u001b[0m         \u001b[0;32mif\u001b[0m \u001b[0mmethod\u001b[0m \u001b[0;34m==\u001b[0m \u001b[0;34m\"pearson\"\u001b[0m\u001b[0;34m:\u001b[0m\u001b[0;34m\u001b[0m\u001b[0;34m\u001b[0m\u001b[0m\n",
            "\u001b[0;32m/usr/local/lib/python3.10/dist-packages/pandas/core/frame.py\u001b[0m in \u001b[0;36mto_numpy\u001b[0;34m(self, dtype, copy, na_value)\u001b[0m\n\u001b[1;32m   1887\u001b[0m         \u001b[0;32mif\u001b[0m \u001b[0mdtype\u001b[0m \u001b[0;32mis\u001b[0m \u001b[0;32mnot\u001b[0m \u001b[0;32mNone\u001b[0m\u001b[0;34m:\u001b[0m\u001b[0;34m\u001b[0m\u001b[0;34m\u001b[0m\u001b[0m\n\u001b[1;32m   1888\u001b[0m             \u001b[0mdtype\u001b[0m \u001b[0;34m=\u001b[0m \u001b[0mnp\u001b[0m\u001b[0;34m.\u001b[0m\u001b[0mdtype\u001b[0m\u001b[0;34m(\u001b[0m\u001b[0mdtype\u001b[0m\u001b[0;34m)\u001b[0m\u001b[0;34m\u001b[0m\u001b[0;34m\u001b[0m\u001b[0m\n\u001b[0;32m-> 1889\u001b[0;31m         \u001b[0mresult\u001b[0m \u001b[0;34m=\u001b[0m \u001b[0mself\u001b[0m\u001b[0;34m.\u001b[0m\u001b[0m_mgr\u001b[0m\u001b[0;34m.\u001b[0m\u001b[0mas_array\u001b[0m\u001b[0;34m(\u001b[0m\u001b[0mdtype\u001b[0m\u001b[0;34m=\u001b[0m\u001b[0mdtype\u001b[0m\u001b[0;34m,\u001b[0m \u001b[0mcopy\u001b[0m\u001b[0;34m=\u001b[0m\u001b[0mcopy\u001b[0m\u001b[0;34m,\u001b[0m \u001b[0mna_value\u001b[0m\u001b[0;34m=\u001b[0m\u001b[0mna_value\u001b[0m\u001b[0;34m)\u001b[0m\u001b[0;34m\u001b[0m\u001b[0;34m\u001b[0m\u001b[0m\n\u001b[0m\u001b[1;32m   1890\u001b[0m         \u001b[0;32mif\u001b[0m \u001b[0mresult\u001b[0m\u001b[0;34m.\u001b[0m\u001b[0mdtype\u001b[0m \u001b[0;32mis\u001b[0m \u001b[0;32mnot\u001b[0m \u001b[0mdtype\u001b[0m\u001b[0;34m:\u001b[0m\u001b[0;34m\u001b[0m\u001b[0;34m\u001b[0m\u001b[0m\n\u001b[1;32m   1891\u001b[0m             \u001b[0mresult\u001b[0m \u001b[0;34m=\u001b[0m \u001b[0mnp\u001b[0m\u001b[0;34m.\u001b[0m\u001b[0marray\u001b[0m\u001b[0;34m(\u001b[0m\u001b[0mresult\u001b[0m\u001b[0;34m,\u001b[0m \u001b[0mdtype\u001b[0m\u001b[0;34m=\u001b[0m\u001b[0mdtype\u001b[0m\u001b[0;34m,\u001b[0m \u001b[0mcopy\u001b[0m\u001b[0;34m=\u001b[0m\u001b[0;32mFalse\u001b[0m\u001b[0;34m)\u001b[0m\u001b[0;34m\u001b[0m\u001b[0;34m\u001b[0m\u001b[0m\n",
            "\u001b[0;32m/usr/local/lib/python3.10/dist-packages/pandas/core/internals/managers.py\u001b[0m in \u001b[0;36mas_array\u001b[0;34m(self, dtype, copy, na_value)\u001b[0m\n\u001b[1;32m   1654\u001b[0m                 \u001b[0marr\u001b[0m\u001b[0;34m.\u001b[0m\u001b[0mflags\u001b[0m\u001b[0;34m.\u001b[0m\u001b[0mwriteable\u001b[0m \u001b[0;34m=\u001b[0m \u001b[0;32mFalse\u001b[0m\u001b[0;34m\u001b[0m\u001b[0;34m\u001b[0m\u001b[0m\n\u001b[1;32m   1655\u001b[0m         \u001b[0;32melse\u001b[0m\u001b[0;34m:\u001b[0m\u001b[0;34m\u001b[0m\u001b[0;34m\u001b[0m\u001b[0m\n\u001b[0;32m-> 1656\u001b[0;31m             \u001b[0marr\u001b[0m \u001b[0;34m=\u001b[0m \u001b[0mself\u001b[0m\u001b[0;34m.\u001b[0m\u001b[0m_interleave\u001b[0m\u001b[0;34m(\u001b[0m\u001b[0mdtype\u001b[0m\u001b[0;34m=\u001b[0m\u001b[0mdtype\u001b[0m\u001b[0;34m,\u001b[0m \u001b[0mna_value\u001b[0m\u001b[0;34m=\u001b[0m\u001b[0mna_value\u001b[0m\u001b[0;34m)\u001b[0m\u001b[0;34m\u001b[0m\u001b[0;34m\u001b[0m\u001b[0m\n\u001b[0m\u001b[1;32m   1657\u001b[0m             \u001b[0;31m# The underlying data was copied within _interleave, so no need\u001b[0m\u001b[0;34m\u001b[0m\u001b[0;34m\u001b[0m\u001b[0m\n\u001b[1;32m   1658\u001b[0m             \u001b[0;31m# to further copy if copy=True or setting na_value\u001b[0m\u001b[0;34m\u001b[0m\u001b[0;34m\u001b[0m\u001b[0m\n",
            "\u001b[0;32m/usr/local/lib/python3.10/dist-packages/pandas/core/internals/managers.py\u001b[0m in \u001b[0;36m_interleave\u001b[0;34m(self, dtype, na_value)\u001b[0m\n\u001b[1;32m   1713\u001b[0m             \u001b[0;32melse\u001b[0m\u001b[0;34m:\u001b[0m\u001b[0;34m\u001b[0m\u001b[0;34m\u001b[0m\u001b[0m\n\u001b[1;32m   1714\u001b[0m                 \u001b[0marr\u001b[0m \u001b[0;34m=\u001b[0m \u001b[0mblk\u001b[0m\u001b[0;34m.\u001b[0m\u001b[0mget_values\u001b[0m\u001b[0;34m(\u001b[0m\u001b[0mdtype\u001b[0m\u001b[0;34m)\u001b[0m\u001b[0;34m\u001b[0m\u001b[0;34m\u001b[0m\u001b[0m\n\u001b[0;32m-> 1715\u001b[0;31m             \u001b[0mresult\u001b[0m\u001b[0;34m[\u001b[0m\u001b[0mrl\u001b[0m\u001b[0;34m.\u001b[0m\u001b[0mindexer\u001b[0m\u001b[0;34m]\u001b[0m \u001b[0;34m=\u001b[0m \u001b[0marr\u001b[0m\u001b[0;34m\u001b[0m\u001b[0;34m\u001b[0m\u001b[0m\n\u001b[0m\u001b[1;32m   1716\u001b[0m             \u001b[0mitemmask\u001b[0m\u001b[0;34m[\u001b[0m\u001b[0mrl\u001b[0m\u001b[0;34m.\u001b[0m\u001b[0mindexer\u001b[0m\u001b[0;34m]\u001b[0m \u001b[0;34m=\u001b[0m \u001b[0;36m1\u001b[0m\u001b[0;34m\u001b[0m\u001b[0;34m\u001b[0m\u001b[0m\n\u001b[1;32m   1717\u001b[0m \u001b[0;34m\u001b[0m\u001b[0m\n",
            "\u001b[0;31mValueError\u001b[0m: could not convert string to float: 'q_95/v1/img/recipes/28/86/vYx7S5AmTtmK4ROM26lI_C8BC242E-5631-47D0-8AAE-1B8782061C6D.jpeg\"\"'"
          ]
        }
      ]
    },
    {
      "cell_type": "code",
      "source": [
        "# Example of filling missing values\n",
        "df['RecipeIngredientQuantities'] = df['RecipeIngredientQuantities'].fillna('0')\n",
        "df['RecipeIngredientParts'] = df['RecipeIngredientParts'].fillna('unknown ingredient')\n",
        "\n",
        "# Filling numerical features with 0\n",
        "df['AggregatedRating'] = df['AggregatedRating'].fillna(0)\n",
        "df['ReviewCount'] = df['ReviewCount'].fillna(0)\n",
        "\n",
        "# Drop unnecessary columns\n",
        "df = df.drop(columns=['Images', 'Description', 'AuthorName'])"
      ],
      "metadata": {
        "id": "XX0wmXWUsc9I"
      },
      "execution_count": null,
      "outputs": []
    }
  ]
}